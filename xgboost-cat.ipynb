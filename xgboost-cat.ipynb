{
 "cells": [
  {
   "cell_type": "code",
   "execution_count": 1,
   "id": "796f2a3a-7417-449a-a828-96a001630225",
   "metadata": {
    "tags": []
   },
   "outputs": [],
   "source": [
    "import cudf\n",
    "import dask_cudf as dd\n",
    "import xgboost as xgb\n",
    "\n",
    "from dask_cuda import LocalCUDACluster\n",
    "from dask.distributed import Client"
   ]
  },
  {
   "cell_type": "code",
   "execution_count": 2,
   "id": "fe7e9b95-7c4b-4a6e-bc1e-a95525db9e4f",
   "metadata": {
    "tags": []
   },
   "outputs": [
    {
     "name": "stderr",
     "output_type": "stream",
     "text": [
      "/raid/cjarrett/mambaforge/envs/xgboost-old/lib/python3.10/site-packages/distributed/node.py:182: UserWarning: Port 8787 is already in use.\n",
      "Perhaps you already have a cluster running?\n",
      "Hosting the HTTP server on port 33311 instead\n",
      "  warnings.warn(\n",
      "2023-02-27 10:26:28,137 - distributed.comm.ucx - WARNING - A CUDA context for device 0 (b'GPU-67be321d-9012-d150-fdc9-402004163697') already exists on process ID 64825. This is often the result of a CUDA-enabled library calling a CUDA runtime function before Dask-CUDA can spawn worker processes. Please make sure any such function calls don't happen at import time or in the global scope of a program.\n",
      "2023-02-27 10:26:29,709 - distributed.preloading - INFO - Creating preload: dask_cuda.initialize\n",
      "2023-02-27 10:26:29,709 - distributed.diskutils - INFO - Found stale lock file and directory '/tmp/dask-worker-space-10224/worker-cwbq391w', purging\n",
      "2023-02-27 10:26:29,709 - distributed.preloading - INFO - Import preload module: dask_cuda.initialize\n",
      "2023-02-27 10:26:29,710 - distributed.diskutils - INFO - Found stale lock file and directory '/tmp/dask-worker-space-10224/worker-gp4tt4n5', purging\n",
      "2023-02-27 10:26:29,710 - distributed.preloading - INFO - Creating preload: dask_cuda.initialize\n",
      "2023-02-27 10:26:29,710 - distributed.preloading - INFO - Import preload module: dask_cuda.initialize\n",
      "2023-02-27 10:26:29,710 - distributed.diskutils - INFO - Found stale lock file and directory '/tmp/dask-worker-space-10224/worker-52rpccpn', purging\n",
      "2023-02-27 10:26:29,711 - distributed.diskutils - INFO - Found stale lock file and directory '/tmp/dask-worker-space-10224/worker-v4rjorxm', purging\n",
      "2023-02-27 10:26:29,712 - distributed.preloading - INFO - Creating preload: dask_cuda.initialize\n",
      "2023-02-27 10:26:29,712 - distributed.preloading - INFO - Import preload module: dask_cuda.initialize\n",
      "2023-02-27 10:26:29,738 - distributed.preloading - INFO - Creating preload: dask_cuda.initialize\n",
      "2023-02-27 10:26:29,738 - distributed.preloading - INFO - Import preload module: dask_cuda.initialize\n"
     ]
    }
   ],
   "source": [
    "cluster = LocalCUDACluster(\n",
    "    n_workers=4,\n",
    "    protocol=\"ucx\",\n",
    "    jit_unspill=True,\n",
    "    # rmm_pool_size=\"28GiB\",\n",
    "    device_memory_limit=\"30GB\",\n",
    ")\n",
    "client = Client(cluster)"
   ]
  },
  {
   "cell_type": "code",
   "execution_count": 3,
   "id": "b02010d1-a0f1-40af-b666-cee1f8da48d8",
   "metadata": {
    "tags": []
   },
   "outputs": [],
   "source": [
    "ddf = dd.read_parquet(\"/datasets/criteo/crit_orig_pq_1day\", split_row_groups=4)\n",
    "ddf = ddf.partitions[0]\n",
    "ddf = ddf.fillna(0)\n",
    "\n",
    "for n in range(1,27):\n",
    "    col = \"C\" + str(n)\n",
    "    ddf[col] = ddf[col].astype(\"category\")"
   ]
  },
  {
   "cell_type": "code",
   "execution_count": 5,
   "id": "18722df6-6eb0-49d5-af51-642a0738af25",
   "metadata": {
    "tags": []
   },
   "outputs": [
    {
     "name": "stderr",
     "output_type": "stream",
     "text": [
      "2023-02-27 10:29:40,895 - distributed.worker - WARNING - RMM allocation of 14.15 MiB failed, spill-on-demand couldn't find any device memory to spill.\n",
      "<ProxyManager dev_limit=27.94 GiB host_limit=377.64 GiB disk=0 B(0) host=575.39 MiB(1) dev=0 B(0)>, traceback:\n",
      "  File \"/raid/cjarrett/mambaforge/envs/xgboost-old/lib/python3.10/threading.py\", line 973, in _bootstrap\n",
      "    self._bootstrap_inner()\n",
      "  File \"/raid/cjarrett/mambaforge/envs/xgboost-old/lib/python3.10/threading.py\", line 1016, in _bootstrap_inner\n",
      "    self.run()\n",
      "  File \"/raid/cjarrett/mambaforge/envs/xgboost-old/lib/python3.10/threading.py\", line 953, in run\n",
      "    self._target(*self._args, **self._kwargs)\n",
      "  File \"/raid/cjarrett/mambaforge/envs/xgboost-old/lib/python3.10/site-packages/distributed/threadpoolexecutor.py\", line 57, in _worker\n",
      "    task.run()\n",
      "  File \"/raid/cjarrett/mambaforge/envs/xgboost-old/lib/python3.10/site-packages/distributed/_concurrent_futures_thread.py\", line 65, in run\n",
      "    result = self.fn(*self.args, **self.kwargs)\n",
      "  File \"/raid/cjarrett/mambaforge/envs/xgboost-old/lib/python3.10/site-packages/distributed/worker.py\", line 3027, in apply_function\n",
      "    msg = apply_function_simple(function, args, kwargs, time_delay)\n",
      "  File \"/raid/cjarrett/mambaforge/envs/xgboost-old/lib/python3.10/site-packages/distributed/worker.py\", line 3049, in apply_function_simple\n",
      "    result = function(*args, **kwargs)\n",
      "  File \"/raid/cjarrett/mambaforge/envs/xgboost-old/lib/python3.10/site-packages/dask/optimization.py\", line 990, in __call__\n",
      "    return core.get(self.dsk, self.outkey, dict(zip(self.inkeys, args)))\n",
      "  File \"/raid/cjarrett/mambaforge/envs/xgboost-old/lib/python3.10/site-packages/dask/core.py\", line 149, in get\n",
      "    result = _execute_task(task, cache)\n",
      "  File \"/raid/cjarrett/mambaforge/envs/xgboost-old/lib/python3.10/site-packages/dask/core.py\", line 119, in _execute_task\n",
      "    return func(*(_execute_task(a, cache) for a in args))\n",
      "  File \"/raid/cjarrett/mambaforge/envs/xgboost-old/lib/python3.10/site-packages/dask/dataframe/methods.py\", line 332, in assign\n",
      "    df = df.copy(deep=bool(deep))\n",
      "  File \"/raid/cjarrett/mambaforge/envs/xgboost-old/lib/python3.10/site-packages/cudf/core/indexed_frame.py\", line 505, in copy\n",
      "    self._data.copy(deep=deep),\n",
      "  File \"/raid/cjarrett/mambaforge/envs/xgboost-old/lib/python3.10/site-packages/cudf/core/column_accessor.py\", line 324, in copy\n",
      "    {k: v.copy(deep=True) for k, v in self._data.items()},\n",
      "  File \"/raid/cjarrett/mambaforge/envs/xgboost-old/lib/python3.10/site-packages/cudf/core/column_accessor.py\", line 324, in <dictcomp>\n",
      "    {k: v.copy(deep=True) for k, v in self._data.items()},\n",
      "  File \"/raid/cjarrett/mambaforge/envs/xgboost-old/lib/python3.10/site-packages/cudf/core/column/column.py\", line 427, in copy\n",
      "    result = libcudf.copying.copy_column(self)\n",
      "  File \"/raid/cjarrett/mambaforge/envs/xgboost-old/lib/python3.10/contextlib.py\", line 79, in inner\n",
      "    return func(*args, **kwds)\n",
      "  File \"/raid/cjarrett/mambaforge/envs/xgboost-old/lib/python3.10/site-packages/dask_cuda/proxify_host_file.py\", line 617, in oom\n",
      "    traceback.print_stack(file=f)\n",
      "\n",
      "\n",
      "terminate called after throwing an instance of 'rmm::out_of_memory'\n",
      "  what():  std::bad_alloc: out_of_memory: CUDA error at: /raid/cjarrett/mambaforge/envs/xgboost-old/include/rmm/mr/device/cuda_memory_resource.hpp\n",
      "2023-02-27 10:29:41,387 - distributed.nanny - WARNING - Restarting worker\n",
      "2023-02-27 10:29:42,536 - distributed.preloading - INFO - Creating preload: dask_cuda.initialize\n",
      "2023-02-27 10:29:42,537 - distributed.preloading - INFO - Import preload module: dask_cuda.initialize\n",
      "2023-02-27 10:29:44,259 - distributed.worker - WARNING - RMM allocation of 14.15 MiB failed, spill-on-demand couldn't find any device memory to spill.\n",
      "<ProxyManager dev_limit=27.94 GiB host_limit=377.64 GiB disk=0 B(0) host=575.39 MiB(1) dev=0 B(0)>, traceback:\n",
      "  File \"/raid/cjarrett/mambaforge/envs/xgboost-old/lib/python3.10/threading.py\", line 973, in _bootstrap\n",
      "    self._bootstrap_inner()\n",
      "  File \"/raid/cjarrett/mambaforge/envs/xgboost-old/lib/python3.10/threading.py\", line 1016, in _bootstrap_inner\n",
      "    self.run()\n",
      "  File \"/raid/cjarrett/mambaforge/envs/xgboost-old/lib/python3.10/threading.py\", line 953, in run\n",
      "    self._target(*self._args, **self._kwargs)\n",
      "  File \"/raid/cjarrett/mambaforge/envs/xgboost-old/lib/python3.10/site-packages/distributed/threadpoolexecutor.py\", line 57, in _worker\n",
      "    task.run()\n",
      "  File \"/raid/cjarrett/mambaforge/envs/xgboost-old/lib/python3.10/site-packages/distributed/_concurrent_futures_thread.py\", line 65, in run\n",
      "    result = self.fn(*self.args, **self.kwargs)\n",
      "  File \"/raid/cjarrett/mambaforge/envs/xgboost-old/lib/python3.10/site-packages/distributed/worker.py\", line 3027, in apply_function\n",
      "    msg = apply_function_simple(function, args, kwargs, time_delay)\n",
      "  File \"/raid/cjarrett/mambaforge/envs/xgboost-old/lib/python3.10/site-packages/distributed/worker.py\", line 3049, in apply_function_simple\n",
      "    result = function(*args, **kwargs)\n",
      "  File \"/raid/cjarrett/mambaforge/envs/xgboost-old/lib/python3.10/site-packages/dask/optimization.py\", line 990, in __call__\n",
      "    return core.get(self.dsk, self.outkey, dict(zip(self.inkeys, args)))\n",
      "  File \"/raid/cjarrett/mambaforge/envs/xgboost-old/lib/python3.10/site-packages/dask/core.py\", line 149, in get\n",
      "    result = _execute_task(task, cache)\n",
      "  File \"/raid/cjarrett/mambaforge/envs/xgboost-old/lib/python3.10/site-packages/dask/core.py\", line 119, in _execute_task\n",
      "    return func(*(_execute_task(a, cache) for a in args))\n",
      "  File \"/raid/cjarrett/mambaforge/envs/xgboost-old/lib/python3.10/site-packages/dask/dataframe/methods.py\", line 332, in assign\n",
      "    df = df.copy(deep=bool(deep))\n",
      "  File \"/raid/cjarrett/mambaforge/envs/xgboost-old/lib/python3.10/site-packages/cudf/core/indexed_frame.py\", line 505, in copy\n",
      "    self._data.copy(deep=deep),\n",
      "  File \"/raid/cjarrett/mambaforge/envs/xgboost-old/lib/python3.10/site-packages/cudf/core/column_accessor.py\", line 324, in copy\n",
      "    {k: v.copy(deep=True) for k, v in self._data.items()},\n",
      "  File \"/raid/cjarrett/mambaforge/envs/xgboost-old/lib/python3.10/site-packages/cudf/core/column_accessor.py\", line 324, in <dictcomp>\n",
      "    {k: v.copy(deep=True) for k, v in self._data.items()},\n",
      "  File \"/raid/cjarrett/mambaforge/envs/xgboost-old/lib/python3.10/site-packages/cudf/core/column/column.py\", line 427, in copy\n",
      "    result = libcudf.copying.copy_column(self)\n",
      "  File \"/raid/cjarrett/mambaforge/envs/xgboost-old/lib/python3.10/contextlib.py\", line 79, in inner\n",
      "    return func(*args, **kwds)\n",
      "  File \"/raid/cjarrett/mambaforge/envs/xgboost-old/lib/python3.10/site-packages/dask_cuda/proxify_host_file.py\", line 617, in oom\n",
      "    traceback.print_stack(file=f)\n",
      "\n",
      "\n",
      "terminate called after throwing an instance of 'rmm::out_of_memory'\n",
      "  what():  std::bad_alloc: out_of_memory: CUDA error at: /raid/cjarrett/mambaforge/envs/xgboost-old/include/rmm/mr/device/cuda_memory_resource.hpp\n",
      "2023-02-27 10:29:44,945 - distributed.nanny - WARNING - Restarting worker\n",
      "2023-02-27 10:29:46,006 - distributed.preloading - INFO - Creating preload: dask_cuda.initialize\n",
      "2023-02-27 10:29:46,006 - distributed.preloading - INFO - Import preload module: dask_cuda.initialize\n",
      "2023-02-27 10:29:46,826 - distributed.worker - WARNING - Compute Failed\n",
      "Key:       ('read-parquet-407a771c8a184e22a608477768ae6a85', 0)\n",
      "Function:  subgraph_callable-032d397b-6b6e-4247-b59d-4a96aaa6\n",
      "args:      ({'piece': ('/datasets/criteo/crit_orig_pq_1day/day_0.parquet', [0, 1, 2, 3], [])})\n",
      "kwargs:    {}\n",
      "Exception: \"MemoryError('Parquet data was larger than the available GPU memory!\\\\n\\\\nSee the notes on split_row_groups in the read_parquet documentation.\\\\n\\\\nOriginal Error: std::bad_alloc: out_of_memory: CUDA error at: /raid/cjarrett/mambaforge/envs/xgboost-old/include/rmm/mr/device/cuda_memory_resource.hpp')\"\n",
      "\n"
     ]
    },
    {
     "ename": "AssertionError",
     "evalue": "error",
     "output_type": "error",
     "traceback": [
      "\u001b[0;31m---------------------------------------------------------------------------\u001b[0m",
      "\u001b[0;31mAssertionError\u001b[0m                            Traceback (most recent call last)",
      "Cell \u001b[0;32mIn[5], line 2\u001b[0m\n\u001b[1;32m      1\u001b[0m X, y \u001b[38;5;241m=\u001b[39m ddf\u001b[38;5;241m.\u001b[39mdrop(\u001b[38;5;124m\"\u001b[39m\u001b[38;5;124mlabel\u001b[39m\u001b[38;5;124m\"\u001b[39m, axis\u001b[38;5;241m=\u001b[39m\u001b[38;5;241m1\u001b[39m), ddf[\u001b[38;5;124m\"\u001b[39m\u001b[38;5;124mlabel\u001b[39m\u001b[38;5;124m\"\u001b[39m]\n\u001b[0;32m----> 2\u001b[0m dtrain \u001b[38;5;241m=\u001b[39m \u001b[43mxgb\u001b[49m\u001b[38;5;241;43m.\u001b[39;49m\u001b[43mdask\u001b[49m\u001b[38;5;241;43m.\u001b[39;49m\u001b[43mDaskDMatrix\u001b[49m\u001b[43m(\u001b[49m\u001b[43mclient\u001b[49m\u001b[43m,\u001b[49m\u001b[43m \u001b[49m\u001b[43mX\u001b[49m\u001b[43m,\u001b[49m\u001b[43m \u001b[49m\u001b[43my\u001b[49m\u001b[43m,\u001b[49m\u001b[43m \u001b[49m\u001b[43menable_categorical\u001b[49m\u001b[38;5;241;43m=\u001b[39;49m\u001b[38;5;28;43;01mTrue\u001b[39;49;00m\u001b[43m)\u001b[49m\n",
      "File \u001b[0;32m~/mambaforge/envs/xgboost-old/lib/python3.10/site-packages/xgboost/core.py:620\u001b[0m, in \u001b[0;36mrequire_keyword_args.<locals>.throw_if.<locals>.inner_f\u001b[0;34m(*args, **kwargs)\u001b[0m\n\u001b[1;32m    618\u001b[0m \u001b[38;5;28;01mfor\u001b[39;00m k, arg \u001b[38;5;129;01min\u001b[39;00m \u001b[38;5;28mzip\u001b[39m(sig\u001b[38;5;241m.\u001b[39mparameters, args):\n\u001b[1;32m    619\u001b[0m     kwargs[k] \u001b[38;5;241m=\u001b[39m arg\n\u001b[0;32m--> 620\u001b[0m \u001b[38;5;28;01mreturn\u001b[39;00m \u001b[43mfunc\u001b[49m\u001b[43m(\u001b[49m\u001b[38;5;241;43m*\u001b[39;49m\u001b[38;5;241;43m*\u001b[39;49m\u001b[43mkwargs\u001b[49m\u001b[43m)\u001b[49m\n",
      "File \u001b[0;32m~/mambaforge/envs/xgboost-old/lib/python3.10/site-packages/xgboost/dask.py:330\u001b[0m, in \u001b[0;36mDaskDMatrix.__init__\u001b[0;34m(self, client, data, label, weight, base_margin, missing, silent, feature_names, feature_types, group, qid, label_lower_bound, label_upper_bound, feature_weights, enable_categorical)\u001b[0m\n\u001b[1;32m    327\u001b[0m \u001b[38;5;28mself\u001b[39m\u001b[38;5;241m.\u001b[39mworker_map: Dict[\u001b[38;5;28mstr\u001b[39m, List[distributed\u001b[38;5;241m.\u001b[39mFuture]] \u001b[38;5;241m=\u001b[39m defaultdict(\u001b[38;5;28mlist\u001b[39m)\n\u001b[1;32m    328\u001b[0m \u001b[38;5;28mself\u001b[39m\u001b[38;5;241m.\u001b[39mis_quantile: \u001b[38;5;28mbool\u001b[39m \u001b[38;5;241m=\u001b[39m \u001b[38;5;28;01mFalse\u001b[39;00m\n\u001b[0;32m--> 330\u001b[0m \u001b[38;5;28mself\u001b[39m\u001b[38;5;241m.\u001b[39m_init \u001b[38;5;241m=\u001b[39m \u001b[43mclient\u001b[49m\u001b[38;5;241;43m.\u001b[39;49m\u001b[43msync\u001b[49m\u001b[43m(\u001b[49m\n\u001b[1;32m    331\u001b[0m \u001b[43m    \u001b[49m\u001b[38;5;28;43mself\u001b[39;49m\u001b[38;5;241;43m.\u001b[39;49m\u001b[43m_map_local_data\u001b[49m\u001b[43m,\u001b[49m\n\u001b[1;32m    332\u001b[0m \u001b[43m    \u001b[49m\u001b[43mclient\u001b[49m\u001b[43m,\u001b[49m\n\u001b[1;32m    333\u001b[0m \u001b[43m    \u001b[49m\u001b[43mdata\u001b[49m\u001b[43m,\u001b[49m\n\u001b[1;32m    334\u001b[0m \u001b[43m    \u001b[49m\u001b[43mlabel\u001b[49m\u001b[38;5;241;43m=\u001b[39;49m\u001b[43mlabel\u001b[49m\u001b[43m,\u001b[49m\n\u001b[1;32m    335\u001b[0m \u001b[43m    \u001b[49m\u001b[43mweights\u001b[49m\u001b[38;5;241;43m=\u001b[39;49m\u001b[43mweight\u001b[49m\u001b[43m,\u001b[49m\n\u001b[1;32m    336\u001b[0m \u001b[43m    \u001b[49m\u001b[43mbase_margin\u001b[49m\u001b[38;5;241;43m=\u001b[39;49m\u001b[43mbase_margin\u001b[49m\u001b[43m,\u001b[49m\n\u001b[1;32m    337\u001b[0m \u001b[43m    \u001b[49m\u001b[43mqid\u001b[49m\u001b[38;5;241;43m=\u001b[39;49m\u001b[43mqid\u001b[49m\u001b[43m,\u001b[49m\n\u001b[1;32m    338\u001b[0m \u001b[43m    \u001b[49m\u001b[43mfeature_weights\u001b[49m\u001b[38;5;241;43m=\u001b[39;49m\u001b[43mfeature_weights\u001b[49m\u001b[43m,\u001b[49m\n\u001b[1;32m    339\u001b[0m \u001b[43m    \u001b[49m\u001b[43mlabel_lower_bound\u001b[49m\u001b[38;5;241;43m=\u001b[39;49m\u001b[43mlabel_lower_bound\u001b[49m\u001b[43m,\u001b[49m\n\u001b[1;32m    340\u001b[0m \u001b[43m    \u001b[49m\u001b[43mlabel_upper_bound\u001b[49m\u001b[38;5;241;43m=\u001b[39;49m\u001b[43mlabel_upper_bound\u001b[49m\u001b[43m,\u001b[49m\n\u001b[1;32m    341\u001b[0m \u001b[43m\u001b[49m\u001b[43m)\u001b[49m\n",
      "File \u001b[0;32m~/mambaforge/envs/xgboost-old/lib/python3.10/site-packages/distributed/utils.py:338\u001b[0m, in \u001b[0;36mSyncMethodMixin.sync\u001b[0;34m(self, func, asynchronous, callback_timeout, *args, **kwargs)\u001b[0m\n\u001b[1;32m    336\u001b[0m     \u001b[38;5;28;01mreturn\u001b[39;00m future\n\u001b[1;32m    337\u001b[0m \u001b[38;5;28;01melse\u001b[39;00m:\n\u001b[0;32m--> 338\u001b[0m     \u001b[38;5;28;01mreturn\u001b[39;00m \u001b[43msync\u001b[49m\u001b[43m(\u001b[49m\n\u001b[1;32m    339\u001b[0m \u001b[43m        \u001b[49m\u001b[38;5;28;43mself\u001b[39;49m\u001b[38;5;241;43m.\u001b[39;49m\u001b[43mloop\u001b[49m\u001b[43m,\u001b[49m\u001b[43m \u001b[49m\u001b[43mfunc\u001b[49m\u001b[43m,\u001b[49m\u001b[43m \u001b[49m\u001b[38;5;241;43m*\u001b[39;49m\u001b[43margs\u001b[49m\u001b[43m,\u001b[49m\u001b[43m \u001b[49m\u001b[43mcallback_timeout\u001b[49m\u001b[38;5;241;43m=\u001b[39;49m\u001b[43mcallback_timeout\u001b[49m\u001b[43m,\u001b[49m\u001b[43m \u001b[49m\u001b[38;5;241;43m*\u001b[39;49m\u001b[38;5;241;43m*\u001b[39;49m\u001b[43mkwargs\u001b[49m\n\u001b[1;32m    340\u001b[0m \u001b[43m    \u001b[49m\u001b[43m)\u001b[49m\n",
      "File \u001b[0;32m~/mambaforge/envs/xgboost-old/lib/python3.10/site-packages/distributed/utils.py:405\u001b[0m, in \u001b[0;36msync\u001b[0;34m(loop, func, callback_timeout, *args, **kwargs)\u001b[0m\n\u001b[1;32m    403\u001b[0m \u001b[38;5;28;01mif\u001b[39;00m error:\n\u001b[1;32m    404\u001b[0m     typ, exc, tb \u001b[38;5;241m=\u001b[39m error\n\u001b[0;32m--> 405\u001b[0m     \u001b[38;5;28;01mraise\u001b[39;00m exc\u001b[38;5;241m.\u001b[39mwith_traceback(tb)\n\u001b[1;32m    406\u001b[0m \u001b[38;5;28;01melse\u001b[39;00m:\n\u001b[1;32m    407\u001b[0m     \u001b[38;5;28;01mreturn\u001b[39;00m result\n",
      "File \u001b[0;32m~/mambaforge/envs/xgboost-old/lib/python3.10/site-packages/distributed/utils.py:378\u001b[0m, in \u001b[0;36msync.<locals>.f\u001b[0;34m()\u001b[0m\n\u001b[1;32m    376\u001b[0m         future \u001b[38;5;241m=\u001b[39m asyncio\u001b[38;5;241m.\u001b[39mwait_for(future, callback_timeout)\n\u001b[1;32m    377\u001b[0m     future \u001b[38;5;241m=\u001b[39m asyncio\u001b[38;5;241m.\u001b[39mensure_future(future)\n\u001b[0;32m--> 378\u001b[0m     result \u001b[38;5;241m=\u001b[39m \u001b[38;5;28;01myield\u001b[39;00m future\n\u001b[1;32m    379\u001b[0m \u001b[38;5;28;01mexcept\u001b[39;00m \u001b[38;5;167;01mException\u001b[39;00m:\n\u001b[1;32m    380\u001b[0m     error \u001b[38;5;241m=\u001b[39m sys\u001b[38;5;241m.\u001b[39mexc_info()\n",
      "File \u001b[0;32m~/mambaforge/envs/xgboost-old/lib/python3.10/site-packages/tornado/gen.py:769\u001b[0m, in \u001b[0;36mRunner.run\u001b[0;34m(self)\u001b[0m\n\u001b[1;32m    766\u001b[0m exc_info \u001b[38;5;241m=\u001b[39m \u001b[38;5;28;01mNone\u001b[39;00m\n\u001b[1;32m    768\u001b[0m \u001b[38;5;28;01mtry\u001b[39;00m:\n\u001b[0;32m--> 769\u001b[0m     value \u001b[38;5;241m=\u001b[39m \u001b[43mfuture\u001b[49m\u001b[38;5;241;43m.\u001b[39;49m\u001b[43mresult\u001b[49m\u001b[43m(\u001b[49m\u001b[43m)\u001b[49m\n\u001b[1;32m    770\u001b[0m \u001b[38;5;28;01mexcept\u001b[39;00m \u001b[38;5;167;01mException\u001b[39;00m:\n\u001b[1;32m    771\u001b[0m     exc_info \u001b[38;5;241m=\u001b[39m sys\u001b[38;5;241m.\u001b[39mexc_info()\n",
      "File \u001b[0;32m~/mambaforge/envs/xgboost-old/lib/python3.10/site-packages/xgboost/dask.py:450\u001b[0m, in \u001b[0;36mDaskDMatrix._map_local_data\u001b[0;34m(self, client, data, label, weights, base_margin, qid, feature_weights, label_lower_bound, label_upper_bound)\u001b[0m\n\u001b[1;32m    446\u001b[0m \u001b[38;5;66;03m# maybe we can call dask.align_partitions here to ease the partition alignment?\u001b[39;00m\n\u001b[1;32m    448\u001b[0m \u001b[38;5;28;01mfor\u001b[39;00m part \u001b[38;5;129;01min\u001b[39;00m fut_parts:\n\u001b[1;32m    449\u001b[0m     \u001b[38;5;66;03m# Each part is [x0, y0, w0, ...] in future form.\u001b[39;00m\n\u001b[0;32m--> 450\u001b[0m     \u001b[38;5;28;01massert\u001b[39;00m part\u001b[38;5;241m.\u001b[39mstatus \u001b[38;5;241m==\u001b[39m \u001b[38;5;124m\"\u001b[39m\u001b[38;5;124mfinished\u001b[39m\u001b[38;5;124m\"\u001b[39m, part\u001b[38;5;241m.\u001b[39mstatus\n\u001b[1;32m    452\u001b[0m \u001b[38;5;66;03m# Preserving the partition order for prediction.\u001b[39;00m\n\u001b[1;32m    453\u001b[0m \u001b[38;5;28mself\u001b[39m\u001b[38;5;241m.\u001b[39mpartition_order \u001b[38;5;241m=\u001b[39m {}\n",
      "\u001b[0;31mAssertionError\u001b[0m: error"
     ]
    }
   ],
   "source": [
    "X, y = ddf.drop(\"label\", axis=1), ddf[\"label\"]\n",
    "dtrain = xgb.dask.DaskDMatrix(client, X, y, enable_categorical=True)"
   ]
  },
  {
   "cell_type": "code",
   "execution_count": 4,
   "id": "2840a11b-c721-4e16-83e0-3ba84eeae646",
   "metadata": {
    "tags": []
   },
   "outputs": [
    {
     "ename": "NameError",
     "evalue": "name 'dtrain' is not defined",
     "output_type": "error",
     "traceback": [
      "\u001b[0;31m---------------------------------------------------------------------------\u001b[0m",
      "\u001b[0;31mNameError\u001b[0m                                 Traceback (most recent call last)",
      "Cell \u001b[0;32mIn[4], line 7\u001b[0m\n\u001b[1;32m      1\u001b[0m output \u001b[38;5;241m=\u001b[39m xgb\u001b[38;5;241m.\u001b[39mdask\u001b[38;5;241m.\u001b[39mtrain(\n\u001b[1;32m      2\u001b[0m         client,\n\u001b[1;32m      3\u001b[0m         {\u001b[38;5;124m\"\u001b[39m\u001b[38;5;124mverbosity\u001b[39m\u001b[38;5;124m\"\u001b[39m: \u001b[38;5;241m2\u001b[39m,\n\u001b[1;32m      4\u001b[0m          \u001b[38;5;124m\"\u001b[39m\u001b[38;5;124mtree_method\u001b[39m\u001b[38;5;124m\"\u001b[39m: \u001b[38;5;124m\"\u001b[39m\u001b[38;5;124mgpu_hist\u001b[39m\u001b[38;5;124m\"\u001b[39m,\n\u001b[1;32m      5\u001b[0m          \u001b[38;5;124m\"\u001b[39m\u001b[38;5;124mobjective\u001b[39m\u001b[38;5;124m\"\u001b[39m: \u001b[38;5;124m\"\u001b[39m\u001b[38;5;124mbinary:logistic\u001b[39m\u001b[38;5;124m\"\u001b[39m,\n\u001b[1;32m      6\u001b[0m          \u001b[38;5;124m\"\u001b[39m\u001b[38;5;124mmax_cat_to_one_hot\u001b[39m\u001b[38;5;124m\"\u001b[39m: \u001b[38;5;241m2\u001b[39m},\n\u001b[0;32m----> 7\u001b[0m         \u001b[43mdtrain\u001b[49m,\n\u001b[1;32m      8\u001b[0m         num_boost_round\u001b[38;5;241m=\u001b[39m\u001b[38;5;241m4\u001b[39m,\n\u001b[1;32m      9\u001b[0m         \u001b[38;5;66;03m# evals=[(dtrain, \"train\")],\u001b[39;00m\n\u001b[1;32m     10\u001b[0m     )\n",
      "\u001b[0;31mNameError\u001b[0m: name 'dtrain' is not defined"
     ]
    }
   ],
   "source": [
    "output = xgb.dask.train(\n",
    "        client,\n",
    "        {\"verbosity\": 2,\n",
    "         \"tree_method\": \"gpu_hist\",\n",
    "         \"objective\": \"binary:logistic\",\n",
    "         \"enable_categorical\": True,\n",
    "         \"max_cat_to_one_hot\": 2},\n",
    "        dtrain,\n",
    "        num_boost_round=4,\n",
    "        # evals=[(dtrain, \"train\")],\n",
    "    )"
   ]
  },
  {
   "cell_type": "code",
   "execution_count": 15,
   "id": "640ee567-79da-47eb-afa5-5ddd4bdc4909",
   "metadata": {
    "tags": []
   },
   "outputs": [
    {
     "name": "stderr",
     "output_type": "stream",
     "text": [
      "2023-02-22 17:58:31,759 - distributed.worker - WARNING - Compute Failed\n",
      "Key:       dispatched_predict-ce569f2da414c2cc095ece0d9abf9e32\n",
      "Function:  dispatched_predict\n",
      "args:      (<xgboost.core.Booster object at 0x7f94640a10c0>, {'data': <dask_cuda.proxy_object.ProxyObject at 0x7f9436fe3e50 of cudf.core.dataframe.DataFrame at 0x7f9436e45b40>, 'label': <dask_cuda.proxy_object.ProxyObject at 0x7f94640a0d30 of cudf.core.series.Series at 0x7f9436f931f0>})\n",
      "kwargs:    {}\n",
      "Exception: \"ValueError('DataFrame.dtypes for data must be int, float, bool or category. When categorical type is supplied, The experimental DMatrix parameter`enable_categorical` must be set to `True`.  Invalid columns:C1: category, C2: category, C3: category, C4: category, C5: category, C6: category, C7: category, C8: category, C9: category, C10: category, C11: category, C12: category, C13: category, C14: category, C15: category, C16: category, C17: category, C18: category, C19: category, C20: category, C21: category, C22: category, C23: category, C24: category, C25: category, C26: category')\"\n",
      "\n"
     ]
    }
   ],
   "source": [
    "prediction = xgb.dask.predict(client, output, dtrain)"
   ]
  },
  {
   "cell_type": "code",
   "execution_count": 13,
   "id": "078e85c5-a793-40be-a55d-a0974f2405b7",
   "metadata": {
    "tags": []
   },
   "outputs": [
    {
     "name": "stderr",
     "output_type": "stream",
     "text": [
      "/raid/cjarrett/mambaforge/envs/xgboost-old/lib/python3.10/site-packages/xgboost/dask.py:856: RuntimeWarning: coroutine 'Client._wait_for_workers' was never awaited\n",
      "  client.wait_for_workers(n_workers)\n",
      "INFO:distributed.scheduler:Receive client connection: Client-worker-1615b936-b31c-11ed-a40d-5cff35c18da6\n",
      "INFO:distributed.core:Starting established connection to ucx://127.0.0.1:56047\n",
      "[17:47:53] task [xgboost.dask-3]:ucx://127.0.0.1:42855 got new rank 0\n",
      "2023-02-22 17:47:55,680 - distributed.worker - WARNING - Compute Failed\n",
      "Key:       dispatched_train-a2da436a-ef39-4229-86f9-884a831292ce\n",
      "Function:  dispatched_train\n",
      "args:      ({'base_score': None, 'booster': None, 'colsample_bylevel': None, 'colsample_bynode': None, 'colsample_bytree': None, 'eval_metric': None, 'gamma': None, 'gpu_id': None, 'grow_policy': None, 'interaction_constraints': None, 'learning_rate': 0.3, 'max_bin': None, 'max_cat_threshold': None, 'max_cat_to_onehot': 1, 'max_delta_step': None, 'max_depth': 10, 'max_leaves': None, 'min_child_weight': None, 'monotone_constraints': None, 'n_jobs': None, 'num_parallel_tree': None, 'objective': 'binary:logistic', 'predictor': None, 'random_state': None, 'reg_alpha': None, 'reg_lambda': None, 'sampling_method': None, 'scale_pos_weight': None, 'subsample': 0.7, 'tree_method': 'gpu_hist', 'validate_parameters': None, 'verbosity': None}, {'DMLC_NUM_WORKER': 1, 'DMLC_TRACKER_URI': '10.120.104.12', 'DMLC_TRACKER_PORT': 36501}, 140400803404032, [], [], {'feature_names': None, 'feature_types': None, 'feature_weights': None, 'missing': nan, 'enable_categorical': True, 'parts': [{'data': <dask_cuda.proxy_obj\n",
      "kwargs:    {}\n",
      "Exception: \"XGBoostError('[17:47:55] /home/conda/feedstock_root/build_artifacts/xgboost-split_1667849645640/work/src/tree/updater_gpu_hist.cu:784: Exception in gpu_hist: [17:47:55] /home/conda/feedstock_root/build_artifacts/xgboost-split_1667849645640/work/src/collective/../common/common.h:46: /home/conda/feedstock_root/build_artifacts/xgboost-split_1667849645640/work/src/tree/gpu_hist/row_partitioner.cuh: 295: cudaErrorIllegalAddress: an illegal memory access was encountered\\\\nStack trace:\\\\n  [bt] (0) /raid/cjarrett/mambaforge/envs/xgboost-old/lib/libxgboost.so(+0x20a75f) [0x7f4e7105275f]\\\\n  [bt] (1) /raid/cjarrett/mambaforge/envs/xgboost-old/lib/libxgboost.so(dh::ThrowOnCudaError(cudaError, char const*, int)+0x503) [0x7f4e713b5a33]\\\\n  [bt] (2) /raid/cjarrett/mambaforge/envs/xgboost-old/lib/libxgboost.so(void xgboost::tree::RowPartitioner::UpdatePositionBatch<__nv_dl_wrapper_t<__nv_dl_tag<void (xgboost::tree::GPUHistMakerDevice<xgboost::detail::GradientPairInternal<double> >::*)(std::vector<xgboost::tree::GPUExpandEntry, std::allocator<xgboost::tree::GPUExpandEntry> > const&, xgboost::RegTree*), &xgboost::tree::GPUHistMakerDevice<xgboost::detail::GradientPairInternal<double> >::UpdatePosition, 1u>, xgboost::EllpackDeviceAccessor>, xgboost::tree::GPUHistMakerDevice<xgboost::detail::GradientPairInternal<double> >::NodeSplitData>(std::vector<int, std::allocator<int> > const&, std::vector<int, std::allocator<int> > const&, std::vector<int, std::allocator<int> > const&, std::vector<xgboost::tree::GPUHistMakerDevice<xgboost::detail::GradientPairInternal<double> >::NodeSplitData, std::allocator<xgboost::tree::GPUHistMakerDevice<xgboost::detail::GradientPairInternal<double> >::NodeSplitData> > const&, __nv_dl_wrapper_t<__nv_dl_tag<void (xgboost::tree::GPUHistMakerDevice<xgboost::detail::GradientPairInternal<double> >::*)(std::vector<xgboost::tree::GPUExpandEntry, std::allocator<xgboost::tree::GPUExpandEntry> > const&, xgboost::RegTree*), &xgboost::tree::GPUHistMakerDevice<xgboost::detail::GradientPairInternal<double> >::UpdatePosition, 1u>, xgboost::EllpackDeviceAccessor>)+0xdb1) [0x7f4e716f84e1]\\\\n  [bt] (3) /raid/cjarrett/mambaforge/envs/xgboost-old/lib/libxgboost.so(xgboost::tree::GPUHistMakerDevice<xgboost::detail::GradientPairInternal<double> >::UpdatePosition(std::vector<xgboost::tree::GPUExpandEntry, std::allocator<xgboost::tree::GPUExpandEntry> > const&, xgboost::RegTree*)+0x4b7) [0x7f4e716f98c7]\\\\n  [bt] (4) /raid/cjarrett/mambaforge/envs/xgboost-old/lib/libxgboost.so(+0x8bcbd3) [0x7f4e71704bd3]\\\\n  [bt] (5) /raid/cjarrett/mambaforge/envs/xgboost-old/lib/libxgboost.so(xgboost::tree::GPUHistMaker::Update(xgboost::HostDeviceVector<xgboost::detail::GradientPairInternal<float> >*, xgboost::DMatrix*, xgboost::common::Span<xgboost::HostDeviceVector<int>, 18446744073709551615ul>, std::vector<xgboost::RegTree*, std::allocator<xgboost::RegTree*> > const&)+0x1f7) [0x7f4e71705e87]\\\\n  [bt] (6) /raid/cjarrett/mambaforge/envs/xgboost-old/lib/libxgboost.so(xgboost::gbm::GBTree::BoostNewTrees(xgboost::HostDeviceVector<xgboost::detail::GradientPairInternal<float> >*, xgboost::DMatrix*, int, std::vector<std::unique_ptr<xgboost::RegTree, std::default_delete<xgboost::RegTree> >, std::allocator<std::unique_ptr<xgboost::RegTree, std::default_delete<xgboost::RegTree> > > >*)+0xa50) [0x7f4e711fcaa0]\\\\n  [bt] (7) /raid/cjarrett/mambaforge/envs/xgboost-old/lib/libxgboost.so(xgboost::gbm::GBTree::DoBoost(xgboost::DMatrix*, xgboost::HostDeviceVector<xgboost::detail::GradientPairInternal<float> >*, xgboost::PredictionCacheEntry*, xgboost::ObjFunction const*)+0x59b) [0x7f4e711fde0b]\\\\n  [bt] (8) /raid/cjarrett/mambaforge/envs/xgboost-old/lib/libxgboost.so(+0x3ddbd0) [0x7f4e71225bd0]\\\\n\\\\n\\\\n\\\\nStack trace:\\\\n  [bt] (0) /raid/cjarrett/mambaforge/envs/xgboost-old/lib/libxgboost.so(+0x20a75f) [0x7f4e7105275f]\\\\n  [bt] (1) /raid/cjarrett/mambaforge/envs/xgboost-old/lib/libxgboost.so(xgboost::tree::GPUHistMaker::Update(xgboost::HostDeviceVector<xgboost::detail::GradientPairInternal<float> >*, xgboost::DMatrix*, xgboost::common::Span<xgboost::HostDeviceVector<int>, 18446744073709551615ul>, std::vector<xgboost::RegTree*, std::allocator<xgboost::RegTree*> > const&)+0x406) [0x7f4e71706096]\\\\n  [bt] (2) /raid/cjarrett/mambaforge/envs/xgboost-old/lib/libxgboost.so(xgboost::gbm::GBTree::BoostNewTrees(xgboost::HostDeviceVector<xgboost::detail::GradientPairInternal<float> >*, xgboost::DMatrix*, int, std::vector<std::unique_ptr<xgboost::RegTree, std::default_delete<xgboost::RegTree> >, std::allocator<std::unique_ptr<xgboost::RegTree, std::default_delete<xgboost::RegTree> > > >*)+0xa50) [0x7f4e711fcaa0]\\\\n  [bt] (3) /raid/cjarrett/mambaforge/envs/xgboost-old/lib/libxgboost.so(xgboost::gbm::GBTree::DoBoost(xgboost::DMatrix*, xgboost::HostDeviceVector<xgboost::detail::GradientPairInternal<float> >*, xgboost::PredictionCacheEntry*, xgboost::ObjFunction const*)+0x59b) [0x7f4e711fde0b]\\\\n  [bt] (4) /raid/cjarrett/mambaforge/envs/xgboost-old/lib/libxgboost.so(+0x3ddbd0) [0x7f4e71225bd0]\\\\n  [bt] (5) /raid/cjarrett/mambaforge/envs/xgboost-old/lib/libxgboost.so(XGBoosterUpdateOneIter+0x8a) [0x7f4e7105f35a]\\\\n  [bt] (6) /raid/cjarrett/mambaforge/envs/xgboost-old/lib/python3.10/lib-dynload/../../libffi.so.8(+0x6a4a) [0x7f50aa5b8a4a]\\\\n  [bt] (7) /raid/cjarrett/mambaforge/envs/xgboost-old/lib/python3.10/lib-dynload/../../libffi.so.8(+0x5fea) [0x7f50aa5b7fea]\\\\n  [bt] (8) /raid/cjarrett/mambaforge/envs/xgboost-old/lib/python3.10/lib-dynload/_ctypes.cpython-310-x86_64-linux-gnu.so(+0x91c7) [0x7f50aa5c71c7]\\\\n\\\\n')\"\n",
      "\n"
     ]
    },
    {
     "ename": "XGBoostError",
     "evalue": "[17:47:55] /home/conda/feedstock_root/build_artifacts/xgboost-split_1667849645640/work/src/tree/updater_gpu_hist.cu:784: Exception in gpu_hist: [17:47:55] /home/conda/feedstock_root/build_artifacts/xgboost-split_1667849645640/work/src/collective/../common/common.h:46: /home/conda/feedstock_root/build_artifacts/xgboost-split_1667849645640/work/src/tree/gpu_hist/row_partitioner.cuh: 295: cudaErrorIllegalAddress: an illegal memory access was encountered\nStack trace:\n  [bt] (0) /raid/cjarrett/mambaforge/envs/xgboost-old/lib/libxgboost.so(+0x20a75f) [0x7f4e7105275f]\n  [bt] (1) /raid/cjarrett/mambaforge/envs/xgboost-old/lib/libxgboost.so(dh::ThrowOnCudaError(cudaError, char const*, int)+0x503) [0x7f4e713b5a33]\n  [bt] (2) /raid/cjarrett/mambaforge/envs/xgboost-old/lib/libxgboost.so(void xgboost::tree::RowPartitioner::UpdatePositionBatch<__nv_dl_wrapper_t<__nv_dl_tag<void (xgboost::tree::GPUHistMakerDevice<xgboost::detail::GradientPairInternal<double> >::*)(std::vector<xgboost::tree::GPUExpandEntry, std::allocator<xgboost::tree::GPUExpandEntry> > const&, xgboost::RegTree*), &xgboost::tree::GPUHistMakerDevice<xgboost::detail::GradientPairInternal<double> >::UpdatePosition, 1u>, xgboost::EllpackDeviceAccessor>, xgboost::tree::GPUHistMakerDevice<xgboost::detail::GradientPairInternal<double> >::NodeSplitData>(std::vector<int, std::allocator<int> > const&, std::vector<int, std::allocator<int> > const&, std::vector<int, std::allocator<int> > const&, std::vector<xgboost::tree::GPUHistMakerDevice<xgboost::detail::GradientPairInternal<double> >::NodeSplitData, std::allocator<xgboost::tree::GPUHistMakerDevice<xgboost::detail::GradientPairInternal<double> >::NodeSplitData> > const&, __nv_dl_wrapper_t<__nv_dl_tag<void (xgboost::tree::GPUHistMakerDevice<xgboost::detail::GradientPairInternal<double> >::*)(std::vector<xgboost::tree::GPUExpandEntry, std::allocator<xgboost::tree::GPUExpandEntry> > const&, xgboost::RegTree*), &xgboost::tree::GPUHistMakerDevice<xgboost::detail::GradientPairInternal<double> >::UpdatePosition, 1u>, xgboost::EllpackDeviceAccessor>)+0xdb1) [0x7f4e716f84e1]\n  [bt] (3) /raid/cjarrett/mambaforge/envs/xgboost-old/lib/libxgboost.so(xgboost::tree::GPUHistMakerDevice<xgboost::detail::GradientPairInternal<double> >::UpdatePosition(std::vector<xgboost::tree::GPUExpandEntry, std::allocator<xgboost::tree::GPUExpandEntry> > const&, xgboost::RegTree*)+0x4b7) [0x7f4e716f98c7]\n  [bt] (4) /raid/cjarrett/mambaforge/envs/xgboost-old/lib/libxgboost.so(+0x8bcbd3) [0x7f4e71704bd3]\n  [bt] (5) /raid/cjarrett/mambaforge/envs/xgboost-old/lib/libxgboost.so(xgboost::tree::GPUHistMaker::Update(xgboost::HostDeviceVector<xgboost::detail::GradientPairInternal<float> >*, xgboost::DMatrix*, xgboost::common::Span<xgboost::HostDeviceVector<int>, 18446744073709551615ul>, std::vector<xgboost::RegTree*, std::allocator<xgboost::RegTree*> > const&)+0x1f7) [0x7f4e71705e87]\n  [bt] (6) /raid/cjarrett/mambaforge/envs/xgboost-old/lib/libxgboost.so(xgboost::gbm::GBTree::BoostNewTrees(xgboost::HostDeviceVector<xgboost::detail::GradientPairInternal<float> >*, xgboost::DMatrix*, int, std::vector<std::unique_ptr<xgboost::RegTree, std::default_delete<xgboost::RegTree> >, std::allocator<std::unique_ptr<xgboost::RegTree, std::default_delete<xgboost::RegTree> > > >*)+0xa50) [0x7f4e711fcaa0]\n  [bt] (7) /raid/cjarrett/mambaforge/envs/xgboost-old/lib/libxgboost.so(xgboost::gbm::GBTree::DoBoost(xgboost::DMatrix*, xgboost::HostDeviceVector<xgboost::detail::GradientPairInternal<float> >*, xgboost::PredictionCacheEntry*, xgboost::ObjFunction const*)+0x59b) [0x7f4e711fde0b]\n  [bt] (8) /raid/cjarrett/mambaforge/envs/xgboost-old/lib/libxgboost.so(+0x3ddbd0) [0x7f4e71225bd0]\n\n\n\nStack trace:\n  [bt] (0) /raid/cjarrett/mambaforge/envs/xgboost-old/lib/libxgboost.so(+0x20a75f) [0x7f4e7105275f]\n  [bt] (1) /raid/cjarrett/mambaforge/envs/xgboost-old/lib/libxgboost.so(xgboost::tree::GPUHistMaker::Update(xgboost::HostDeviceVector<xgboost::detail::GradientPairInternal<float> >*, xgboost::DMatrix*, xgboost::common::Span<xgboost::HostDeviceVector<int>, 18446744073709551615ul>, std::vector<xgboost::RegTree*, std::allocator<xgboost::RegTree*> > const&)+0x406) [0x7f4e71706096]\n  [bt] (2) /raid/cjarrett/mambaforge/envs/xgboost-old/lib/libxgboost.so(xgboost::gbm::GBTree::BoostNewTrees(xgboost::HostDeviceVector<xgboost::detail::GradientPairInternal<float> >*, xgboost::DMatrix*, int, std::vector<std::unique_ptr<xgboost::RegTree, std::default_delete<xgboost::RegTree> >, std::allocator<std::unique_ptr<xgboost::RegTree, std::default_delete<xgboost::RegTree> > > >*)+0xa50) [0x7f4e711fcaa0]\n  [bt] (3) /raid/cjarrett/mambaforge/envs/xgboost-old/lib/libxgboost.so(xgboost::gbm::GBTree::DoBoost(xgboost::DMatrix*, xgboost::HostDeviceVector<xgboost::detail::GradientPairInternal<float> >*, xgboost::PredictionCacheEntry*, xgboost::ObjFunction const*)+0x59b) [0x7f4e711fde0b]\n  [bt] (4) /raid/cjarrett/mambaforge/envs/xgboost-old/lib/libxgboost.so(+0x3ddbd0) [0x7f4e71225bd0]\n  [bt] (5) /raid/cjarrett/mambaforge/envs/xgboost-old/lib/libxgboost.so(XGBoosterUpdateOneIter+0x8a) [0x7f4e7105f35a]\n  [bt] (6) /raid/cjarrett/mambaforge/envs/xgboost-old/lib/python3.10/lib-dynload/../../libffi.so.8(+0x6a4a) [0x7f50aa5b8a4a]\n  [bt] (7) /raid/cjarrett/mambaforge/envs/xgboost-old/lib/python3.10/lib-dynload/../../libffi.so.8(+0x5fea) [0x7f50aa5b7fea]\n  [bt] (8) /raid/cjarrett/mambaforge/envs/xgboost-old/lib/python3.10/lib-dynload/_ctypes.cpython-310-x86_64-linux-gnu.so(+0x91c7) [0x7f50aa5c71c7]\n\n",
     "output_type": "error",
     "traceback": [
      "\u001b[0;31m---------------------------------------------------------------------------\u001b[0m",
      "\u001b[0;31mXGBoostError\u001b[0m                              Traceback (most recent call last)",
      "Cell \u001b[0;32mIn[13], line 11\u001b[0m\n\u001b[1;32m      1\u001b[0m clf \u001b[38;5;241m=\u001b[39m xgb\u001b[38;5;241m.\u001b[39mdask\u001b[38;5;241m.\u001b[39mDaskXGBClassifier(\n\u001b[1;32m      2\u001b[0m     tree_method\u001b[38;5;241m=\u001b[39m\u001b[38;5;124m\"\u001b[39m\u001b[38;5;124mgpu_hist\u001b[39m\u001b[38;5;124m\"\u001b[39m,\n\u001b[1;32m      3\u001b[0m     enable_categorical\u001b[38;5;241m=\u001b[39m\u001b[38;5;28;01mTrue\u001b[39;00m,\n\u001b[0;32m   (...)\u001b[0m\n\u001b[1;32m      8\u001b[0m     subsample\u001b[38;5;241m=\u001b[39m\u001b[38;5;241m0.7\u001b[39m,\n\u001b[1;32m      9\u001b[0m )\n\u001b[1;32m     10\u001b[0m clf\u001b[38;5;241m.\u001b[39mclient \u001b[38;5;241m=\u001b[39m client\n\u001b[0;32m---> 11\u001b[0m \u001b[43mclf\u001b[49m\u001b[38;5;241;43m.\u001b[39;49m\u001b[43mfit\u001b[49m\u001b[43m(\u001b[49m\u001b[43mX\u001b[49m\u001b[43m,\u001b[49m\u001b[43my\u001b[49m\u001b[43m)\u001b[49m\n",
      "File \u001b[0;32m~/mambaforge/envs/xgboost-old/lib/python3.10/site-packages/xgboost/dask.py:1944\u001b[0m, in \u001b[0;36mDaskXGBClassifier.fit\u001b[0;34m(self, X, y, sample_weight, base_margin, eval_set, eval_metric, early_stopping_rounds, verbose, xgb_model, sample_weight_eval_set, base_margin_eval_set, feature_weights, callbacks)\u001b[0m\n\u001b[1;32m   1942\u001b[0m _assert_dask_support()\n\u001b[1;32m   1943\u001b[0m args \u001b[38;5;241m=\u001b[39m {k: v \u001b[38;5;28;01mfor\u001b[39;00m k, v \u001b[38;5;129;01min\u001b[39;00m \u001b[38;5;28mlocals\u001b[39m()\u001b[38;5;241m.\u001b[39mitems() \u001b[38;5;28;01mif\u001b[39;00m k \u001b[38;5;129;01mnot\u001b[39;00m \u001b[38;5;129;01min\u001b[39;00m (\u001b[38;5;124m\"\u001b[39m\u001b[38;5;124mself\u001b[39m\u001b[38;5;124m\"\u001b[39m, \u001b[38;5;124m\"\u001b[39m\u001b[38;5;124m__class__\u001b[39m\u001b[38;5;124m\"\u001b[39m)}\n\u001b[0;32m-> 1944\u001b[0m \u001b[38;5;28;01mreturn\u001b[39;00m \u001b[38;5;28;43mself\u001b[39;49m\u001b[38;5;241;43m.\u001b[39;49m\u001b[43m_client_sync\u001b[49m\u001b[43m(\u001b[49m\u001b[38;5;28;43mself\u001b[39;49m\u001b[38;5;241;43m.\u001b[39;49m\u001b[43m_fit_async\u001b[49m\u001b[43m,\u001b[49m\u001b[43m \u001b[49m\u001b[38;5;241;43m*\u001b[39;49m\u001b[38;5;241;43m*\u001b[39;49m\u001b[43margs\u001b[49m\u001b[43m)\u001b[49m\n",
      "File \u001b[0;32m~/mambaforge/envs/xgboost-old/lib/python3.10/site-packages/xgboost/dask.py:1736\u001b[0m, in \u001b[0;36mDaskScikitLearnBase._client_sync\u001b[0;34m(self, func, **kwargs)\u001b[0m\n\u001b[1;32m   1733\u001b[0m                 \u001b[38;5;28;01mreturn\u001b[39;00m ret\n\u001b[1;32m   1734\u001b[0m             \u001b[38;5;28;01mreturn\u001b[39;00m ret\n\u001b[0;32m-> 1736\u001b[0m \u001b[38;5;28;01mreturn\u001b[39;00m \u001b[38;5;28;43mself\u001b[39;49m\u001b[38;5;241;43m.\u001b[39;49m\u001b[43mclient\u001b[49m\u001b[38;5;241;43m.\u001b[39;49m\u001b[43msync\u001b[49m\u001b[43m(\u001b[49m\u001b[43mfunc\u001b[49m\u001b[43m,\u001b[49m\u001b[43m \u001b[49m\u001b[38;5;241;43m*\u001b[39;49m\u001b[38;5;241;43m*\u001b[39;49m\u001b[43mkwargs\u001b[49m\u001b[43m,\u001b[49m\u001b[43m \u001b[49m\u001b[43masynchronous\u001b[49m\u001b[38;5;241;43m=\u001b[39;49m\u001b[38;5;28;43mself\u001b[39;49m\u001b[38;5;241;43m.\u001b[39;49m\u001b[43mclient\u001b[49m\u001b[38;5;241;43m.\u001b[39;49m\u001b[43masynchronous\u001b[49m\u001b[43m)\u001b[49m\n",
      "File \u001b[0;32m~/mambaforge/envs/xgboost-old/lib/python3.10/site-packages/distributed/utils.py:338\u001b[0m, in \u001b[0;36mSyncMethodMixin.sync\u001b[0;34m(self, func, asynchronous, callback_timeout, *args, **kwargs)\u001b[0m\n\u001b[1;32m    336\u001b[0m     \u001b[38;5;28;01mreturn\u001b[39;00m future\n\u001b[1;32m    337\u001b[0m \u001b[38;5;28;01melse\u001b[39;00m:\n\u001b[0;32m--> 338\u001b[0m     \u001b[38;5;28;01mreturn\u001b[39;00m \u001b[43msync\u001b[49m\u001b[43m(\u001b[49m\n\u001b[1;32m    339\u001b[0m \u001b[43m        \u001b[49m\u001b[38;5;28;43mself\u001b[39;49m\u001b[38;5;241;43m.\u001b[39;49m\u001b[43mloop\u001b[49m\u001b[43m,\u001b[49m\u001b[43m \u001b[49m\u001b[43mfunc\u001b[49m\u001b[43m,\u001b[49m\u001b[43m \u001b[49m\u001b[38;5;241;43m*\u001b[39;49m\u001b[43margs\u001b[49m\u001b[43m,\u001b[49m\u001b[43m \u001b[49m\u001b[43mcallback_timeout\u001b[49m\u001b[38;5;241;43m=\u001b[39;49m\u001b[43mcallback_timeout\u001b[49m\u001b[43m,\u001b[49m\u001b[43m \u001b[49m\u001b[38;5;241;43m*\u001b[39;49m\u001b[38;5;241;43m*\u001b[39;49m\u001b[43mkwargs\u001b[49m\n\u001b[1;32m    340\u001b[0m \u001b[43m    \u001b[49m\u001b[43m)\u001b[49m\n",
      "File \u001b[0;32m~/mambaforge/envs/xgboost-old/lib/python3.10/site-packages/distributed/utils.py:405\u001b[0m, in \u001b[0;36msync\u001b[0;34m(loop, func, callback_timeout, *args, **kwargs)\u001b[0m\n\u001b[1;32m    403\u001b[0m \u001b[38;5;28;01mif\u001b[39;00m error:\n\u001b[1;32m    404\u001b[0m     typ, exc, tb \u001b[38;5;241m=\u001b[39m error\n\u001b[0;32m--> 405\u001b[0m     \u001b[38;5;28;01mraise\u001b[39;00m exc\u001b[38;5;241m.\u001b[39mwith_traceback(tb)\n\u001b[1;32m    406\u001b[0m \u001b[38;5;28;01melse\u001b[39;00m:\n\u001b[1;32m    407\u001b[0m     \u001b[38;5;28;01mreturn\u001b[39;00m result\n",
      "File \u001b[0;32m~/mambaforge/envs/xgboost-old/lib/python3.10/site-packages/distributed/utils.py:378\u001b[0m, in \u001b[0;36msync.<locals>.f\u001b[0;34m()\u001b[0m\n\u001b[1;32m    376\u001b[0m         future \u001b[38;5;241m=\u001b[39m asyncio\u001b[38;5;241m.\u001b[39mwait_for(future, callback_timeout)\n\u001b[1;32m    377\u001b[0m     future \u001b[38;5;241m=\u001b[39m asyncio\u001b[38;5;241m.\u001b[39mensure_future(future)\n\u001b[0;32m--> 378\u001b[0m     result \u001b[38;5;241m=\u001b[39m \u001b[38;5;28;01myield\u001b[39;00m future\n\u001b[1;32m    379\u001b[0m \u001b[38;5;28;01mexcept\u001b[39;00m \u001b[38;5;167;01mException\u001b[39;00m:\n\u001b[1;32m    380\u001b[0m     error \u001b[38;5;241m=\u001b[39m sys\u001b[38;5;241m.\u001b[39mexc_info()\n",
      "File \u001b[0;32m~/mambaforge/envs/xgboost-old/lib/python3.10/site-packages/tornado/gen.py:769\u001b[0m, in \u001b[0;36mRunner.run\u001b[0;34m(self)\u001b[0m\n\u001b[1;32m    766\u001b[0m exc_info \u001b[38;5;241m=\u001b[39m \u001b[38;5;28;01mNone\u001b[39;00m\n\u001b[1;32m    768\u001b[0m \u001b[38;5;28;01mtry\u001b[39;00m:\n\u001b[0;32m--> 769\u001b[0m     value \u001b[38;5;241m=\u001b[39m \u001b[43mfuture\u001b[49m\u001b[38;5;241;43m.\u001b[39;49m\u001b[43mresult\u001b[49m\u001b[43m(\u001b[49m\u001b[43m)\u001b[49m\n\u001b[1;32m    770\u001b[0m \u001b[38;5;28;01mexcept\u001b[39;00m \u001b[38;5;167;01mException\u001b[39;00m:\n\u001b[1;32m    771\u001b[0m     exc_info \u001b[38;5;241m=\u001b[39m sys\u001b[38;5;241m.\u001b[39mexc_info()\n",
      "File \u001b[0;32m~/mambaforge/envs/xgboost-old/lib/python3.10/site-packages/xgboost/dask.py:1900\u001b[0m, in \u001b[0;36mDaskXGBClassifier._fit_async\u001b[0;34m(self, X, y, sample_weight, base_margin, eval_set, eval_metric, sample_weight_eval_set, base_margin_eval_set, early_stopping_rounds, verbose, xgb_model, feature_weights, callbacks)\u001b[0m\n\u001b[1;32m   1896\u001b[0m     obj \u001b[38;5;241m=\u001b[39m \u001b[38;5;28;01mNone\u001b[39;00m\n\u001b[1;32m   1897\u001b[0m model, metric, params, early_stopping_rounds, callbacks \u001b[38;5;241m=\u001b[39m \u001b[38;5;28mself\u001b[39m\u001b[38;5;241m.\u001b[39m_configure_fit(\n\u001b[1;32m   1898\u001b[0m     xgb_model, eval_metric, params, early_stopping_rounds, callbacks\n\u001b[1;32m   1899\u001b[0m )\n\u001b[0;32m-> 1900\u001b[0m results \u001b[38;5;241m=\u001b[39m \u001b[38;5;28;01mawait\u001b[39;00m \u001b[38;5;28mself\u001b[39m\u001b[38;5;241m.\u001b[39mclient\u001b[38;5;241m.\u001b[39msync(\n\u001b[1;32m   1901\u001b[0m     _train_async,\n\u001b[1;32m   1902\u001b[0m     asynchronous\u001b[38;5;241m=\u001b[39m\u001b[38;5;28;01mTrue\u001b[39;00m,\n\u001b[1;32m   1903\u001b[0m     client\u001b[38;5;241m=\u001b[39m\u001b[38;5;28mself\u001b[39m\u001b[38;5;241m.\u001b[39mclient,\n\u001b[1;32m   1904\u001b[0m     global_config\u001b[38;5;241m=\u001b[39mconfig\u001b[38;5;241m.\u001b[39mget_config(),\n\u001b[1;32m   1905\u001b[0m     dconfig\u001b[38;5;241m=\u001b[39m_get_dask_config(),\n\u001b[1;32m   1906\u001b[0m     params\u001b[38;5;241m=\u001b[39mparams,\n\u001b[1;32m   1907\u001b[0m     dtrain\u001b[38;5;241m=\u001b[39mdtrain,\n\u001b[1;32m   1908\u001b[0m     num_boost_round\u001b[38;5;241m=\u001b[39m\u001b[38;5;28mself\u001b[39m\u001b[38;5;241m.\u001b[39mget_num_boosting_rounds(),\n\u001b[1;32m   1909\u001b[0m     evals\u001b[38;5;241m=\u001b[39mevals,\n\u001b[1;32m   1910\u001b[0m     obj\u001b[38;5;241m=\u001b[39mobj,\n\u001b[1;32m   1911\u001b[0m     feval\u001b[38;5;241m=\u001b[39m\u001b[38;5;28;01mNone\u001b[39;00m,\n\u001b[1;32m   1912\u001b[0m     custom_metric\u001b[38;5;241m=\u001b[39mmetric,\n\u001b[1;32m   1913\u001b[0m     verbose_eval\u001b[38;5;241m=\u001b[39mverbose,\n\u001b[1;32m   1914\u001b[0m     early_stopping_rounds\u001b[38;5;241m=\u001b[39mearly_stopping_rounds,\n\u001b[1;32m   1915\u001b[0m     callbacks\u001b[38;5;241m=\u001b[39mcallbacks,\n\u001b[1;32m   1916\u001b[0m     xgb_model\u001b[38;5;241m=\u001b[39mmodel,\n\u001b[1;32m   1917\u001b[0m )\n\u001b[1;32m   1918\u001b[0m \u001b[38;5;28mself\u001b[39m\u001b[38;5;241m.\u001b[39m_Booster \u001b[38;5;241m=\u001b[39m results[\u001b[38;5;124m\"\u001b[39m\u001b[38;5;124mbooster\u001b[39m\u001b[38;5;124m\"\u001b[39m]\n\u001b[1;32m   1919\u001b[0m \u001b[38;5;28;01mif\u001b[39;00m \u001b[38;5;129;01mnot\u001b[39;00m callable(\u001b[38;5;28mself\u001b[39m\u001b[38;5;241m.\u001b[39mobjective):\n",
      "File \u001b[0;32m~/mambaforge/envs/xgboost-old/lib/python3.10/site-packages/xgboost/dask.py:993\u001b[0m, in \u001b[0;36m_train_async\u001b[0;34m(client, global_config, dconfig, params, dtrain, num_boost_round, evals, obj, feval, early_stopping_rounds, verbose_eval, xgb_model, callbacks, custom_metric)\u001b[0m\n\u001b[1;32m    990\u001b[0m     evals_name \u001b[38;5;241m=\u001b[39m []\n\u001b[1;32m    991\u001b[0m     evals_id \u001b[38;5;241m=\u001b[39m []\n\u001b[0;32m--> 993\u001b[0m results \u001b[38;5;241m=\u001b[39m \u001b[38;5;28;01mawait\u001b[39;00m map_worker_partitions(\n\u001b[1;32m    994\u001b[0m     client,\n\u001b[1;32m    995\u001b[0m     dispatched_train,\n\u001b[1;32m    996\u001b[0m     \u001b[38;5;66;03m# extra function parameters\u001b[39;00m\n\u001b[1;32m    997\u001b[0m     params,\n\u001b[1;32m    998\u001b[0m     _rabit_args,\n\u001b[1;32m    999\u001b[0m     \u001b[38;5;28mid\u001b[39m(dtrain),\n\u001b[1;32m   1000\u001b[0m     evals_name,\n\u001b[1;32m   1001\u001b[0m     evals_id,\n\u001b[1;32m   1002\u001b[0m     \u001b[38;5;241m*\u001b[39m([dtrain] \u001b[38;5;241m+\u001b[39m evals_data),\n\u001b[1;32m   1003\u001b[0m     \u001b[38;5;66;03m# workers to be used for training\u001b[39;00m\n\u001b[1;32m   1004\u001b[0m     workers\u001b[38;5;241m=\u001b[39mworkers,\n\u001b[1;32m   1005\u001b[0m )\n\u001b[1;32m   1006\u001b[0m \u001b[38;5;28;01mreturn\u001b[39;00m \u001b[38;5;28mlist\u001b[39m(\u001b[38;5;28mfilter\u001b[39m(\u001b[38;5;28;01mlambda\u001b[39;00m ret: ret \u001b[38;5;129;01mis\u001b[39;00m \u001b[38;5;129;01mnot\u001b[39;00m \u001b[38;5;28;01mNone\u001b[39;00m, results))[\u001b[38;5;241m0\u001b[39m]\n",
      "File \u001b[0;32m~/mambaforge/envs/xgboost-old/lib/python3.10/site-packages/xgboost/dask.py:529\u001b[0m, in \u001b[0;36mmap_worker_partitions\u001b[0;34m(client, func, workers, *refs)\u001b[0m\n\u001b[1;32m    525\u001b[0m     fut \u001b[38;5;241m=\u001b[39m client\u001b[38;5;241m.\u001b[39msubmit(\n\u001b[1;32m    526\u001b[0m         func, \u001b[38;5;241m*\u001b[39margs, pure\u001b[38;5;241m=\u001b[39m\u001b[38;5;28;01mFalse\u001b[39;00m, workers\u001b[38;5;241m=\u001b[39m[addr], allow_other_workers\u001b[38;5;241m=\u001b[39m\u001b[38;5;28;01mFalse\u001b[39;00m\n\u001b[1;32m    527\u001b[0m     )\n\u001b[1;32m    528\u001b[0m     futures\u001b[38;5;241m.\u001b[39mappend(fut)\n\u001b[0;32m--> 529\u001b[0m results \u001b[38;5;241m=\u001b[39m \u001b[38;5;28;01mawait\u001b[39;00m client\u001b[38;5;241m.\u001b[39mgather(futures)\n\u001b[1;32m    530\u001b[0m \u001b[38;5;28;01mreturn\u001b[39;00m results\n",
      "File \u001b[0;32m~/mambaforge/envs/xgboost-old/lib/python3.10/site-packages/distributed/client.py:2169\u001b[0m, in \u001b[0;36mClient._gather\u001b[0;34m(self, futures, errors, direct, local_worker)\u001b[0m\n\u001b[1;32m   2167\u001b[0m         exc \u001b[38;5;241m=\u001b[39m CancelledError(key)\n\u001b[1;32m   2168\u001b[0m     \u001b[38;5;28;01melse\u001b[39;00m:\n\u001b[0;32m-> 2169\u001b[0m         \u001b[38;5;28;01mraise\u001b[39;00m exception\u001b[38;5;241m.\u001b[39mwith_traceback(traceback)\n\u001b[1;32m   2170\u001b[0m     \u001b[38;5;28;01mraise\u001b[39;00m exc\n\u001b[1;32m   2171\u001b[0m \u001b[38;5;28;01mif\u001b[39;00m errors \u001b[38;5;241m==\u001b[39m \u001b[38;5;124m\"\u001b[39m\u001b[38;5;124mskip\u001b[39m\u001b[38;5;124m\"\u001b[39m:\n",
      "File \u001b[0;32m~/mambaforge/envs/xgboost-old/lib/python3.10/site-packages/xgboost/dask.py:960\u001b[0m, in \u001b[0;36mdispatched_train\u001b[0;34m()\u001b[0m\n\u001b[1;32m    957\u001b[0m             eval_Xy \u001b[38;5;241m=\u001b[39m _dmatrix_from_list_of_parts(\u001b[38;5;241m*\u001b[39m\u001b[38;5;241m*\u001b[39mref, nthread\u001b[38;5;241m=\u001b[39mn_threads)\n\u001b[1;32m    958\u001b[0m         evals\u001b[38;5;241m.\u001b[39mappend((eval_Xy, evals_name[i]))\n\u001b[0;32m--> 960\u001b[0m     booster \u001b[38;5;241m=\u001b[39m worker_train(\n\u001b[1;32m    961\u001b[0m         params\u001b[38;5;241m=\u001b[39mlocal_param,\n\u001b[1;32m    962\u001b[0m         dtrain\u001b[38;5;241m=\u001b[39mXy,\n\u001b[1;32m    963\u001b[0m         num_boost_round\u001b[38;5;241m=\u001b[39mnum_boost_round,\n\u001b[1;32m    964\u001b[0m         evals_result\u001b[38;5;241m=\u001b[39mlocal_history,\n\u001b[1;32m    965\u001b[0m         evals\u001b[38;5;241m=\u001b[39mevals \u001b[38;5;28;01mif\u001b[39;00m \u001b[38;5;28mlen\u001b[39m(evals) \u001b[38;5;241m!=\u001b[39m \u001b[38;5;241m0\u001b[39m \u001b[38;5;28;01melse\u001b[39;00m \u001b[38;5;28;01mNone\u001b[39;00m,\n\u001b[1;32m    966\u001b[0m         obj\u001b[38;5;241m=\u001b[39mobj,\n\u001b[1;32m    967\u001b[0m         feval\u001b[38;5;241m=\u001b[39mfeval,\n\u001b[1;32m    968\u001b[0m         custom_metric\u001b[38;5;241m=\u001b[39mcustom_metric,\n\u001b[1;32m    969\u001b[0m         early_stopping_rounds\u001b[38;5;241m=\u001b[39mearly_stopping_rounds,\n\u001b[1;32m    970\u001b[0m         verbose_eval\u001b[38;5;241m=\u001b[39mverbose_eval,\n\u001b[1;32m    971\u001b[0m         xgb_model\u001b[38;5;241m=\u001b[39mxgb_model,\n\u001b[1;32m    972\u001b[0m         callbacks\u001b[38;5;241m=\u001b[39mcallbacks,\n\u001b[1;32m    973\u001b[0m     )\n\u001b[1;32m    974\u001b[0m \u001b[38;5;28;01mif\u001b[39;00m Xy\u001b[38;5;241m.\u001b[39mnum_row() \u001b[38;5;241m!=\u001b[39m \u001b[38;5;241m0\u001b[39m:\n\u001b[1;32m    975\u001b[0m     ret: Optional[TrainReturnT] \u001b[38;5;241m=\u001b[39m {\n\u001b[1;32m    976\u001b[0m         \u001b[38;5;124m\"\u001b[39m\u001b[38;5;124mbooster\u001b[39m\u001b[38;5;124m\"\u001b[39m: booster,\n\u001b[1;32m    977\u001b[0m         \u001b[38;5;124m\"\u001b[39m\u001b[38;5;124mhistory\u001b[39m\u001b[38;5;124m\"\u001b[39m: local_history,\n\u001b[1;32m    978\u001b[0m     }\n",
      "File \u001b[0;32m~/mambaforge/envs/xgboost-old/lib/python3.10/site-packages/xgboost/core.py:620\u001b[0m, in \u001b[0;36minner_f\u001b[0;34m()\u001b[0m\n\u001b[1;32m    618\u001b[0m \u001b[38;5;28;01mfor\u001b[39;00m k, arg \u001b[38;5;129;01min\u001b[39;00m \u001b[38;5;28mzip\u001b[39m(sig\u001b[38;5;241m.\u001b[39mparameters, args):\n\u001b[1;32m    619\u001b[0m     kwargs[k] \u001b[38;5;241m=\u001b[39m arg\n\u001b[0;32m--> 620\u001b[0m \u001b[38;5;28;01mreturn\u001b[39;00m func(\u001b[38;5;241m*\u001b[39m\u001b[38;5;241m*\u001b[39mkwargs)\n",
      "File \u001b[0;32m~/mambaforge/envs/xgboost-old/lib/python3.10/site-packages/xgboost/training.py:185\u001b[0m, in \u001b[0;36mtrain\u001b[0;34m()\u001b[0m\n\u001b[1;32m    183\u001b[0m \u001b[38;5;28;01mif\u001b[39;00m cb_container\u001b[38;5;241m.\u001b[39mbefore_iteration(bst, i, dtrain, evals):\n\u001b[1;32m    184\u001b[0m     \u001b[38;5;28;01mbreak\u001b[39;00m\n\u001b[0;32m--> 185\u001b[0m bst\u001b[38;5;241m.\u001b[39mupdate(dtrain, i, obj)\n\u001b[1;32m    186\u001b[0m \u001b[38;5;28;01mif\u001b[39;00m cb_container\u001b[38;5;241m.\u001b[39mafter_iteration(bst, i, dtrain, evals):\n\u001b[1;32m    187\u001b[0m     \u001b[38;5;28;01mbreak\u001b[39;00m\n",
      "File \u001b[0;32m~/mambaforge/envs/xgboost-old/lib/python3.10/site-packages/xgboost/core.py:1918\u001b[0m, in \u001b[0;36mupdate\u001b[0;34m()\u001b[0m\n\u001b[1;32m   1915\u001b[0m \u001b[38;5;28mself\u001b[39m\u001b[38;5;241m.\u001b[39m_validate_dmatrix_features(dtrain)\n\u001b[1;32m   1917\u001b[0m \u001b[38;5;28;01mif\u001b[39;00m fobj \u001b[38;5;129;01mis\u001b[39;00m \u001b[38;5;28;01mNone\u001b[39;00m:\n\u001b[0;32m-> 1918\u001b[0m     _check_call(_LIB\u001b[38;5;241m.\u001b[39mXGBoosterUpdateOneIter(\u001b[38;5;28mself\u001b[39m\u001b[38;5;241m.\u001b[39mhandle,\n\u001b[1;32m   1919\u001b[0m                                             ctypes\u001b[38;5;241m.\u001b[39mc_int(iteration),\n\u001b[1;32m   1920\u001b[0m                                             dtrain\u001b[38;5;241m.\u001b[39mhandle))\n\u001b[1;32m   1921\u001b[0m \u001b[38;5;28;01melse\u001b[39;00m:\n\u001b[1;32m   1922\u001b[0m     pred \u001b[38;5;241m=\u001b[39m \u001b[38;5;28mself\u001b[39m\u001b[38;5;241m.\u001b[39mpredict(dtrain, output_margin\u001b[38;5;241m=\u001b[39m\u001b[38;5;28;01mTrue\u001b[39;00m, training\u001b[38;5;241m=\u001b[39m\u001b[38;5;28;01mTrue\u001b[39;00m)\n",
      "File \u001b[0;32m~/mambaforge/envs/xgboost-old/lib/python3.10/site-packages/xgboost/core.py:279\u001b[0m, in \u001b[0;36m_check_call\u001b[0;34m()\u001b[0m\n\u001b[1;32m    268\u001b[0m \u001b[38;5;250m\u001b[39m\u001b[38;5;124;03m\"\"\"Check the return value of C API call\u001b[39;00m\n\u001b[1;32m    269\u001b[0m \n\u001b[1;32m    270\u001b[0m \u001b[38;5;124;03mThis function will raise exception when error occurs.\u001b[39;00m\n\u001b[0;32m   (...)\u001b[0m\n\u001b[1;32m    276\u001b[0m \u001b[38;5;124;03m    return value from API calls\u001b[39;00m\n\u001b[1;32m    277\u001b[0m \u001b[38;5;124;03m\"\"\"\u001b[39;00m\n\u001b[1;32m    278\u001b[0m \u001b[38;5;28;01mif\u001b[39;00m ret \u001b[38;5;241m!=\u001b[39m \u001b[38;5;241m0\u001b[39m:\n\u001b[0;32m--> 279\u001b[0m     \u001b[38;5;28;01mraise\u001b[39;00m XGBoostError(py_str(_LIB\u001b[38;5;241m.\u001b[39mXGBGetLastError()))\n",
      "\u001b[0;31mXGBoostError\u001b[0m: [17:47:55] /home/conda/feedstock_root/build_artifacts/xgboost-split_1667849645640/work/src/tree/updater_gpu_hist.cu:784: Exception in gpu_hist: [17:47:55] /home/conda/feedstock_root/build_artifacts/xgboost-split_1667849645640/work/src/collective/../common/common.h:46: /home/conda/feedstock_root/build_artifacts/xgboost-split_1667849645640/work/src/tree/gpu_hist/row_partitioner.cuh: 295: cudaErrorIllegalAddress: an illegal memory access was encountered\nStack trace:\n  [bt] (0) /raid/cjarrett/mambaforge/envs/xgboost-old/lib/libxgboost.so(+0x20a75f) [0x7f4e7105275f]\n  [bt] (1) /raid/cjarrett/mambaforge/envs/xgboost-old/lib/libxgboost.so(dh::ThrowOnCudaError(cudaError, char const*, int)+0x503) [0x7f4e713b5a33]\n  [bt] (2) /raid/cjarrett/mambaforge/envs/xgboost-old/lib/libxgboost.so(void xgboost::tree::RowPartitioner::UpdatePositionBatch<__nv_dl_wrapper_t<__nv_dl_tag<void (xgboost::tree::GPUHistMakerDevice<xgboost::detail::GradientPairInternal<double> >::*)(std::vector<xgboost::tree::GPUExpandEntry, std::allocator<xgboost::tree::GPUExpandEntry> > const&, xgboost::RegTree*), &xgboost::tree::GPUHistMakerDevice<xgboost::detail::GradientPairInternal<double> >::UpdatePosition, 1u>, xgboost::EllpackDeviceAccessor>, xgboost::tree::GPUHistMakerDevice<xgboost::detail::GradientPairInternal<double> >::NodeSplitData>(std::vector<int, std::allocator<int> > const&, std::vector<int, std::allocator<int> > const&, std::vector<int, std::allocator<int> > const&, std::vector<xgboost::tree::GPUHistMakerDevice<xgboost::detail::GradientPairInternal<double> >::NodeSplitData, std::allocator<xgboost::tree::GPUHistMakerDevice<xgboost::detail::GradientPairInternal<double> >::NodeSplitData> > const&, __nv_dl_wrapper_t<__nv_dl_tag<void (xgboost::tree::GPUHistMakerDevice<xgboost::detail::GradientPairInternal<double> >::*)(std::vector<xgboost::tree::GPUExpandEntry, std::allocator<xgboost::tree::GPUExpandEntry> > const&, xgboost::RegTree*), &xgboost::tree::GPUHistMakerDevice<xgboost::detail::GradientPairInternal<double> >::UpdatePosition, 1u>, xgboost::EllpackDeviceAccessor>)+0xdb1) [0x7f4e716f84e1]\n  [bt] (3) /raid/cjarrett/mambaforge/envs/xgboost-old/lib/libxgboost.so(xgboost::tree::GPUHistMakerDevice<xgboost::detail::GradientPairInternal<double> >::UpdatePosition(std::vector<xgboost::tree::GPUExpandEntry, std::allocator<xgboost::tree::GPUExpandEntry> > const&, xgboost::RegTree*)+0x4b7) [0x7f4e716f98c7]\n  [bt] (4) /raid/cjarrett/mambaforge/envs/xgboost-old/lib/libxgboost.so(+0x8bcbd3) [0x7f4e71704bd3]\n  [bt] (5) /raid/cjarrett/mambaforge/envs/xgboost-old/lib/libxgboost.so(xgboost::tree::GPUHistMaker::Update(xgboost::HostDeviceVector<xgboost::detail::GradientPairInternal<float> >*, xgboost::DMatrix*, xgboost::common::Span<xgboost::HostDeviceVector<int>, 18446744073709551615ul>, std::vector<xgboost::RegTree*, std::allocator<xgboost::RegTree*> > const&)+0x1f7) [0x7f4e71705e87]\n  [bt] (6) /raid/cjarrett/mambaforge/envs/xgboost-old/lib/libxgboost.so(xgboost::gbm::GBTree::BoostNewTrees(xgboost::HostDeviceVector<xgboost::detail::GradientPairInternal<float> >*, xgboost::DMatrix*, int, std::vector<std::unique_ptr<xgboost::RegTree, std::default_delete<xgboost::RegTree> >, std::allocator<std::unique_ptr<xgboost::RegTree, std::default_delete<xgboost::RegTree> > > >*)+0xa50) [0x7f4e711fcaa0]\n  [bt] (7) /raid/cjarrett/mambaforge/envs/xgboost-old/lib/libxgboost.so(xgboost::gbm::GBTree::DoBoost(xgboost::DMatrix*, xgboost::HostDeviceVector<xgboost::detail::GradientPairInternal<float> >*, xgboost::PredictionCacheEntry*, xgboost::ObjFunction const*)+0x59b) [0x7f4e711fde0b]\n  [bt] (8) /raid/cjarrett/mambaforge/envs/xgboost-old/lib/libxgboost.so(+0x3ddbd0) [0x7f4e71225bd0]\n\n\n\nStack trace:\n  [bt] (0) /raid/cjarrett/mambaforge/envs/xgboost-old/lib/libxgboost.so(+0x20a75f) [0x7f4e7105275f]\n  [bt] (1) /raid/cjarrett/mambaforge/envs/xgboost-old/lib/libxgboost.so(xgboost::tree::GPUHistMaker::Update(xgboost::HostDeviceVector<xgboost::detail::GradientPairInternal<float> >*, xgboost::DMatrix*, xgboost::common::Span<xgboost::HostDeviceVector<int>, 18446744073709551615ul>, std::vector<xgboost::RegTree*, std::allocator<xgboost::RegTree*> > const&)+0x406) [0x7f4e71706096]\n  [bt] (2) /raid/cjarrett/mambaforge/envs/xgboost-old/lib/libxgboost.so(xgboost::gbm::GBTree::BoostNewTrees(xgboost::HostDeviceVector<xgboost::detail::GradientPairInternal<float> >*, xgboost::DMatrix*, int, std::vector<std::unique_ptr<xgboost::RegTree, std::default_delete<xgboost::RegTree> >, std::allocator<std::unique_ptr<xgboost::RegTree, std::default_delete<xgboost::RegTree> > > >*)+0xa50) [0x7f4e711fcaa0]\n  [bt] (3) /raid/cjarrett/mambaforge/envs/xgboost-old/lib/libxgboost.so(xgboost::gbm::GBTree::DoBoost(xgboost::DMatrix*, xgboost::HostDeviceVector<xgboost::detail::GradientPairInternal<float> >*, xgboost::PredictionCacheEntry*, xgboost::ObjFunction const*)+0x59b) [0x7f4e711fde0b]\n  [bt] (4) /raid/cjarrett/mambaforge/envs/xgboost-old/lib/libxgboost.so(+0x3ddbd0) [0x7f4e71225bd0]\n  [bt] (5) /raid/cjarrett/mambaforge/envs/xgboost-old/lib/libxgboost.so(XGBoosterUpdateOneIter+0x8a) [0x7f4e7105f35a]\n  [bt] (6) /raid/cjarrett/mambaforge/envs/xgboost-old/lib/python3.10/lib-dynload/../../libffi.so.8(+0x6a4a) [0x7f50aa5b8a4a]\n  [bt] (7) /raid/cjarrett/mambaforge/envs/xgboost-old/lib/python3.10/lib-dynload/../../libffi.so.8(+0x5fea) [0x7f50aa5b7fea]\n  [bt] (8) /raid/cjarrett/mambaforge/envs/xgboost-old/lib/python3.10/lib-dynload/_ctypes.cpython-310-x86_64-linux-gnu.so(+0x91c7) [0x7f50aa5c71c7]\n\n"
     ]
    }
   ],
   "source": [
    "clf = xgb.dask.DaskXGBClassifier(\n",
    "    tree_method=\"gpu_hist\",\n",
    "    enable_categorical=True,\n",
    "    max_cat_to_onehot=1,\n",
    "    learning_rate=0.3,\n",
    "    max_depth=10,\n",
    "    objective=\"binary:logistic\",\n",
    "    subsample=0.7,\n",
    ")\n",
    "clf.client = client\n",
    "clf.fit(X,y)"
   ]
  },
  {
   "cell_type": "code",
   "execution_count": null,
   "id": "a86f1b70-62cb-48bf-b6d4-3d41ddc633ea",
   "metadata": {},
   "outputs": [],
   "source": [
    "# Get a graph\n",
    "graph = xgb.to_graphviz(clf, num_trees=1)\n",
    "# Or get a matplotlib axis\n",
    "ax = xgb.plot_tree(clf, num_trees=1)\n",
    "# Get feature importances\n",
    "clf.feature_importances_"
   ]
  }
 ],
 "metadata": {
  "kernelspec": {
   "display_name": "Python 3 (ipykernel)",
   "language": "python",
   "name": "python3"
  },
  "language_info": {
   "codemirror_mode": {
    "name": "ipython",
    "version": 3
   },
   "file_extension": ".py",
   "mimetype": "text/x-python",
   "name": "python",
   "nbconvert_exporter": "python",
   "pygments_lexer": "ipython3",
   "version": "3.10.9"
  }
 },
 "nbformat": 4,
 "nbformat_minor": 5
}
