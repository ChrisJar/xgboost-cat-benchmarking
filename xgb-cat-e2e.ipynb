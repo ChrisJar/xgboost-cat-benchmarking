{
 "cells": [
  {
   "cell_type": "code",
   "execution_count": null,
   "id": "9e5af495-fd07-406f-b941-8d34a6ea1117",
   "metadata": {},
   "outputs": [],
   "source": [
    "import cudf\n",
    "import dask_cudf\n",
    "import xgboost as xgb\n",
    "\n",
    "import time\n",
    "\n",
    "from dask_cuda import LocalCUDACluster\n",
    "from dask.distributed import Client"
   ]
  },
  {
   "cell_type": "code",
   "execution_count": null,
   "id": "a812242e-4658-46e8-b72e-91639ff57d9a",
   "metadata": {},
   "outputs": [],
   "source": [
    "train_data_dir = \"/datasets/criteo/crit_orig_pq_1day\"\n",
    "test_data_dit = \"/datasets/criteo/crit_orig_pq_1day\""
   ]
  },
  {
   "cell_type": "code",
   "execution_count": null,
   "id": "e83df644-c9df-473e-a4ce-892810c76cac",
   "metadata": {},
   "outputs": [],
   "source": [
    "cluster = LocalCUDACluster(\n",
    "    n_workers=16,\n",
    "    protocol=\"ucx\",\n",
    "    jit_unspill=True,\n",
    "    rmm_pool_size=\"28GiB\",\n",
    "    device_memory_limit=\"30GB\",\n",
    ")\n",
    "client = Client(cluster)\n",
    "client"
   ]
  },
  {
   "cell_type": "code",
   "execution_count": null,
   "id": "59aa6c8d-4bd3-42f2-96cc-5014f467eb8a",
   "metadata": {},
   "outputs": [],
   "source": [
    "train_ddf = dask_cudf.read_parquet(train_data_dir, split_row_groups=True)"
   ]
  },
  {
   "cell_type": "code",
   "execution_count": null,
   "id": "8ba6af1c-4d1a-42a7-b592-311d30e90399",
   "metadata": {},
   "outputs": [],
   "source": [
    "def transform_df(ddf):\n",
    "    # ddf = ddf.fillna(0)\n",
    "\n",
    "    for n in range(1,27):\n",
    "        col = \"C\" + str(n)\n",
    "        ddf[col] = ddf[col].astype(\"category\")\n",
    "    return ddf"
   ]
  },
  {
   "cell_type": "code",
   "execution_count": null,
   "id": "82a97bbd-3780-4d18-a88a-c3373b8c6eba",
   "metadata": {},
   "outputs": [],
   "source": [
    "train_ddf = tranform_df(train_ddf)\n",
    "X_train, y_train = train_ddf.drop(\"label\", axis=1), train_ddf[\"label\"]\n",
    "del train_ddf"
   ]
  },
  {
   "cell_type": "code",
   "execution_count": null,
   "id": "90b5bce7-0e50-4258-895d-017265ee27ce",
   "metadata": {},
   "outputs": [],
   "source": [
    "dtrain = xgb.dask.DaskDMatrix(client, X_train, y_train, enable_categorical=True)\n",
    "del X_train\n",
    "del y_train"
   ]
  },
  {
   "cell_type": "code",
   "execution_count": null,
   "id": "786265fd-845a-4e1b-922a-5962ac8a8a25",
   "metadata": {},
   "outputs": [],
   "source": [
    "params = {\n",
    "    \"tree_method\": \"gpu_hist\",\n",
    "    \"objective\": \"binary:logistic\",\n",
    "    \"max_cat_to_onehot\": 1\n",
    "}"
   ]
  },
  {
   "cell_type": "code",
   "execution_count": null,
   "id": "3f6c3e18-be0c-44e4-bdfa-cfcce1c46bb4",
   "metadata": {},
   "outputs": [],
   "source": [
    "t0 = time.time()\n",
    "output = xgb.dask.train(\n",
    "        client,\n",
    "        params,\n",
    "        dtrain,\n",
    "        num_boost_round=4,\n",
    "        evals=[(dtrain, \"train\")],\n",
    ")\n",
    "t1 = time.time()\n",
    "print(\"Training Time: {}\".format(t1-t0))"
   ]
  },
  {
   "cell_type": "code",
   "execution_count": null,
   "id": "a0c172b5-e3bc-4bf6-af25-e06de5380ae7",
   "metadata": {},
   "outputs": [],
   "source": [
    "del dtrain"
   ]
  },
  {
   "cell_type": "code",
   "execution_count": null,
   "id": "7337a1f5-b06b-4520-aa2f-5fa3052e2df9",
   "metadata": {},
   "outputs": [],
   "source": [
    "test_ddf = dask_cudf.read_parquet(test_data_dir, split_row_groups=True)"
   ]
  },
  {
   "cell_type": "code",
   "execution_count": null,
   "id": "0e8ab494-9ecb-4742-b182-30fad05307e5",
   "metadata": {},
   "outputs": [],
   "source": [
    "test_ddf = transform_df(test_ddf)\n",
    "X_test, y_test = test_ddf.drop(\"label\", axis=1), test_ddf[\"label\"]\n",
    "del test_ddf"
   ]
  },
  {
   "cell_type": "code",
   "execution_count": null,
   "id": "2aca3eb1-ec10-4414-a427-2935bc7fc58e",
   "metadata": {},
   "outputs": [],
   "source": [
    "from cuml.metrics import accuracy_score, log_loss\n",
    "\n",
    "y_test_pred_prob = xgb.dask.inplace_predict(client, output, X_test)\n",
    "y_test_pred_val = y_test_pred_prob>=0.5\n",
    "\n",
    "test_acc = accuracy_score(y_test.compute(), y_test_pred_val.compute())\n",
    "test_log_loss = log_loss(y_test.compute(), y_test_pred_prob.compute())\n",
    "\n",
    "print(\"Test Accuracy: {}\".format(test_acc))\n",
    "print(\"Test Log Loss: {}\".format(test_log_loss))"
   ]
  }
 ],
 "metadata": {
  "kernelspec": {
   "display_name": "Python 3 (ipykernel)",
   "language": "python",
   "name": "python3"
  },
  "language_info": {
   "codemirror_mode": {
    "name": "ipython",
    "version": 3
   },
   "file_extension": ".py",
   "mimetype": "text/x-python",
   "name": "python",
   "nbconvert_exporter": "python",
   "pygments_lexer": "ipython3",
   "version": "3.10.9"
  }
 },
 "nbformat": 4,
 "nbformat_minor": 5
}
